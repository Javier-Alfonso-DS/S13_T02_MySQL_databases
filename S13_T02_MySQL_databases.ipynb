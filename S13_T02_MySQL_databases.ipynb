{
 "cells": [
  {
   "cell_type": "markdown",
   "metadata": {},
   "source": [
    "# Description\n",
    "Create database with MySQL.\n",
    "\n",
    "Level 1\n",
    "\n",
    "- Exercise 1\n",
    "\n",
    "Create a simple relational database using MySQL(https://www.mysql.com/) and connect it to Python.\n",
    "\n",
    "Level 2\n",
    "\n",
    "- Exercise 2\n",
    "Show that you can load some simple queries to a Pandas Dataframe.\n",
    "\n",
    "Level 3\n",
    "\n",
    "- Exercise 3\n",
    "Generate a graph summarizing the data."
   ]
  },
  {
   "cell_type": "markdown",
   "metadata": {},
   "source": [
    "# Level 1\n",
    "\n",
    "## - Exercise 1\n",
    "\n",
    "Create a simple relational database using MySQL(https://www.mysql.com/) and connect it to Python.\n"
   ]
  },
  {
   "cell_type": "markdown",
   "metadata": {},
   "source": [
    "We are going to use our database created in the previous task: S13_T01 and we are going to connect it to Python."
   ]
  },
  {
   "cell_type": "code",
   "execution_count": 1,
   "metadata": {},
   "outputs": [],
   "source": [
    "# Import Libraries\n",
    "import pandas as pd\n",
    "import mysql.connector\n",
    "import os\n",
    "os.sys.path.append(os.path.dirname(os.path.abspath('.')))\n",
    "import Data.config as cfg\n",
    "\n",
    "import matplotlib as plt\n",
    "import seaborn as sns\n",
    "\n",
    "import Data.Pers_lib as Pers"
   ]
  },
  {
   "cell_type": "code",
   "execution_count": 2,
   "metadata": {},
   "outputs": [
    {
     "name": "stdout",
     "output_type": "stream",
     "text": [
      "<mysql.connector.connection_cext.CMySQLConnection object at 0x000001F8133F26D0>\n"
     ]
    }
   ],
   "source": [
    "# Connect to database\n",
    "mydb = mysql.connector.connect(**cfg.config)\n",
    "print(mydb)"
   ]
  },
  {
   "cell_type": "markdown",
   "metadata": {},
   "source": [
    "We have connected to our MySQL database without exposing our credentials when our notebook uploads to Github."
   ]
  },
  {
   "cell_type": "markdown",
   "metadata": {},
   "source": [
    "\n",
    "# Level 2\n",
    "\n",
    "## - Exercise 2\n",
    "Show that you can load some simple queries to a Pandas Dataframe.\n",
    "\n",
    "Let's show first the databases existing in our host:"
   ]
  },
  {
   "cell_type": "code",
   "execution_count": 3,
   "metadata": {},
   "outputs": [
    {
     "name": "stdout",
     "output_type": "stream",
     "text": [
      "('classicmodels',)\n",
      "('information_schema',)\n",
      "('mysql',)\n",
      "('performance_schema',)\n",
      "('s13_t01',)\n",
      "('sys',)\n"
     ]
    }
   ],
   "source": [
    "cursor = mydb.cursor()\n",
    "cursor.execute(\"SHOW DATABASES\")\n",
    "\n",
    "for dbs in cursor:\n",
    "  print(dbs)"
   ]
  },
  {
   "cell_type": "markdown",
   "metadata": {},
   "source": [
    "Let's now show the tables in our s13_t01 database:"
   ]
  },
  {
   "cell_type": "code",
   "execution_count": 4,
   "metadata": {},
   "outputs": [
    {
     "name": "stdout",
     "output_type": "stream",
     "text": [
      "('customerstable',)\n",
      "('employeestable',)\n",
      "('establismenttable',)\n",
      "('productstable',)\n",
      "('providertable',)\n",
      "('shoppingtable',)\n",
      "('typeofproducts',)\n"
     ]
    }
   ],
   "source": [
    "cursor.execute(\"SHOW TABLES\")\n",
    "\n",
    "for tables in cursor:\n",
    "  print(tables)"
   ]
  },
  {
   "cell_type": "markdown",
   "metadata": {},
   "source": [
    "Finally, lets select all registers from table \"costumerstable\" and then convert them to list and finally to pd.dataframe"
   ]
  },
  {
   "cell_type": "code",
   "execution_count": 5,
   "metadata": {},
   "outputs": [
    {
     "data": {
      "text/plain": [
       "['id', 'Name', 'Surnames', 'NIF', 'Address']"
      ]
     },
     "execution_count": 5,
     "metadata": {},
     "output_type": "execute_result"
    }
   ],
   "source": [
    "# First, let's take the attributes from sql table to columns in dataframe.\n",
    "cursor.execute(\"show COLUMNS from customerstable;\")\n",
    "result = cursor.fetchall()\n",
    "\n",
    "columns = []\n",
    "for row in result:\n",
    "  columns.append(row[0])\n",
    "columns"
   ]
  },
  {
   "cell_type": "code",
   "execution_count": 6,
   "metadata": {},
   "outputs": [
    {
     "data": {
      "text/html": [
       "<div>\n",
       "<style scoped>\n",
       "    .dataframe tbody tr th:only-of-type {\n",
       "        vertical-align: middle;\n",
       "    }\n",
       "\n",
       "    .dataframe tbody tr th {\n",
       "        vertical-align: top;\n",
       "    }\n",
       "\n",
       "    .dataframe thead th {\n",
       "        text-align: right;\n",
       "    }\n",
       "</style>\n",
       "<table border=\"1\" class=\"dataframe\">\n",
       "  <thead>\n",
       "    <tr style=\"text-align: right;\">\n",
       "      <th></th>\n",
       "      <th>id</th>\n",
       "      <th>Name</th>\n",
       "      <th>Surnames</th>\n",
       "      <th>NIF</th>\n",
       "      <th>Address</th>\n",
       "    </tr>\n",
       "  </thead>\n",
       "  <tbody>\n",
       "    <tr>\n",
       "      <th>0</th>\n",
       "      <td>1</td>\n",
       "      <td>Pepe</td>\n",
       "      <td>Martinez</td>\n",
       "      <td>43212345H</td>\n",
       "      <td>c/Santa María, 5, Madrid</td>\n",
       "    </tr>\n",
       "    <tr>\n",
       "      <th>1</th>\n",
       "      <td>2</td>\n",
       "      <td>Juan</td>\n",
       "      <td>Lopez</td>\n",
       "      <td>45323245H</td>\n",
       "      <td>Albacente</td>\n",
       "    </tr>\n",
       "    <tr>\n",
       "      <th>2</th>\n",
       "      <td>3</td>\n",
       "      <td>Jose</td>\n",
       "      <td>Garcia</td>\n",
       "      <td>55251111H</td>\n",
       "      <td>Sevilla</td>\n",
       "    </tr>\n",
       "    <tr>\n",
       "      <th>3</th>\n",
       "      <td>4</td>\n",
       "      <td>Jesús</td>\n",
       "      <td>Fernandez</td>\n",
       "      <td>46526111J</td>\n",
       "      <td>Barcelona</td>\n",
       "    </tr>\n",
       "  </tbody>\n",
       "</table>\n",
       "</div>"
      ],
      "text/plain": [
       "   id   Name   Surnames        NIF                   Address\n",
       "0   1   Pepe   Martinez  43212345H  c/Santa María, 5, Madrid\n",
       "1   2   Juan      Lopez  45323245H                 Albacente\n",
       "2   3   Jose     Garcia  55251111H                   Sevilla\n",
       "3   4  Jesús  Fernandez  46526111J                 Barcelona"
      ]
     },
     "execution_count": 6,
     "metadata": {},
     "output_type": "execute_result"
    }
   ],
   "source": [
    "cursor.execute(\"SELECT * FROM customerstable\")\n",
    "\n",
    "result = cursor.fetchall()\n",
    "\n",
    "costumerslist = []\n",
    "for row in result:\n",
    "  costumerslist.append(row)\n",
    "\n",
    "costumersdf = pd.DataFrame(costumerslist,columns=columns)\n",
    "costumersdf"
   ]
  },
  {
   "cell_type": "markdown",
   "metadata": {},
   "source": [
    "# PENDING:      \n",
    "\n",
    "* Put more data in SQL table in order to do some graphic in Ex.3"
   ]
  },
  {
   "cell_type": "markdown",
   "metadata": {},
   "source": [
    "\n",
    "# Level 3\n",
    "\n",
    "## - Exercise 3\n",
    "Generate a graph summarizing the data."
   ]
  },
  {
   "cell_type": "markdown",
   "metadata": {},
   "source": [
    "Now we have imported an example sql database from https://www.mysqltutorial.org/mysql-sample-database.aspx  \n",
    "With this database we are going to generate some graphs.\n",
    "\n",
    "### Graph Stock x Product Lines"
   ]
  },
  {
   "cell_type": "code",
   "execution_count": 7,
   "metadata": {},
   "outputs": [],
   "source": [
    "cursor.execute(\"USE classicmodels\")\n"
   ]
  },
  {
   "cell_type": "code",
   "execution_count": 8,
   "metadata": {},
   "outputs": [
    {
     "name": "stdout",
     "output_type": "stream",
     "text": [
      "('customers',)\n",
      "('employees',)\n",
      "('offices',)\n",
      "('orderdetails',)\n",
      "('orders',)\n",
      "('payments',)\n",
      "('productlines',)\n",
      "('products',)\n"
     ]
    }
   ],
   "source": [
    "cursor = mydb.cursor()\n",
    "cursor.execute(\"SHOW TABLES\")\n",
    "\n",
    "for dbs in cursor:\n",
    "  print(dbs)"
   ]
  },
  {
   "cell_type": "markdown",
   "metadata": {},
   "source": [
    "In this case, let's take all the table from SQL to dataframe (as exercise 2), and then plot it."
   ]
  },
  {
   "cell_type": "code",
   "execution_count": 9,
   "metadata": {},
   "outputs": [
    {
     "data": {
      "text/html": [
       "<div>\n",
       "<style scoped>\n",
       "    .dataframe tbody tr th:only-of-type {\n",
       "        vertical-align: middle;\n",
       "    }\n",
       "\n",
       "    .dataframe tbody tr th {\n",
       "        vertical-align: top;\n",
       "    }\n",
       "\n",
       "    .dataframe thead th {\n",
       "        text-align: right;\n",
       "    }\n",
       "</style>\n",
       "<table border=\"1\" class=\"dataframe\">\n",
       "  <thead>\n",
       "    <tr style=\"text-align: right;\">\n",
       "      <th></th>\n",
       "      <th>productCode</th>\n",
       "      <th>productName</th>\n",
       "      <th>productLine</th>\n",
       "      <th>productScale</th>\n",
       "      <th>productVendor</th>\n",
       "      <th>productDescription</th>\n",
       "      <th>quantityInStock</th>\n",
       "      <th>buyPrice</th>\n",
       "      <th>MSRP</th>\n",
       "    </tr>\n",
       "  </thead>\n",
       "  <tbody>\n",
       "    <tr>\n",
       "      <th>0</th>\n",
       "      <td>S10_1678</td>\n",
       "      <td>1969 Harley Davidson Ultimate Chopper</td>\n",
       "      <td>Motorcycles</td>\n",
       "      <td>1:10</td>\n",
       "      <td>Min Lin Diecast</td>\n",
       "      <td>This replica features working kickstand, front...</td>\n",
       "      <td>7933</td>\n",
       "      <td>48.81</td>\n",
       "      <td>95.70</td>\n",
       "    </tr>\n",
       "    <tr>\n",
       "      <th>1</th>\n",
       "      <td>S10_1949</td>\n",
       "      <td>1952 Alpine Renault 1300</td>\n",
       "      <td>Classic Cars</td>\n",
       "      <td>1:10</td>\n",
       "      <td>Classic Metal Creations</td>\n",
       "      <td>Turnable front wheels; steering function; deta...</td>\n",
       "      <td>7305</td>\n",
       "      <td>98.58</td>\n",
       "      <td>214.30</td>\n",
       "    </tr>\n",
       "    <tr>\n",
       "      <th>2</th>\n",
       "      <td>S10_2016</td>\n",
       "      <td>1996 Moto Guzzi 1100i</td>\n",
       "      <td>Motorcycles</td>\n",
       "      <td>1:10</td>\n",
       "      <td>Highway 66 Mini Classics</td>\n",
       "      <td>Official Moto Guzzi logos and insignias, saddl...</td>\n",
       "      <td>6625</td>\n",
       "      <td>68.99</td>\n",
       "      <td>118.94</td>\n",
       "    </tr>\n",
       "    <tr>\n",
       "      <th>3</th>\n",
       "      <td>S10_4698</td>\n",
       "      <td>2003 Harley-Davidson Eagle Drag Bike</td>\n",
       "      <td>Motorcycles</td>\n",
       "      <td>1:10</td>\n",
       "      <td>Red Start Diecast</td>\n",
       "      <td>Model features, official Harley Davidson logos...</td>\n",
       "      <td>5582</td>\n",
       "      <td>91.02</td>\n",
       "      <td>193.66</td>\n",
       "    </tr>\n",
       "    <tr>\n",
       "      <th>4</th>\n",
       "      <td>S10_4757</td>\n",
       "      <td>1972 Alfa Romeo GTA</td>\n",
       "      <td>Classic Cars</td>\n",
       "      <td>1:10</td>\n",
       "      <td>Motor City Art Classics</td>\n",
       "      <td>Features include: Turnable front wheels; steer...</td>\n",
       "      <td>3252</td>\n",
       "      <td>85.68</td>\n",
       "      <td>136.00</td>\n",
       "    </tr>\n",
       "    <tr>\n",
       "      <th>...</th>\n",
       "      <td>...</td>\n",
       "      <td>...</td>\n",
       "      <td>...</td>\n",
       "      <td>...</td>\n",
       "      <td>...</td>\n",
       "      <td>...</td>\n",
       "      <td>...</td>\n",
       "      <td>...</td>\n",
       "      <td>...</td>\n",
       "    </tr>\n",
       "    <tr>\n",
       "      <th>105</th>\n",
       "      <td>S700_3505</td>\n",
       "      <td>The Titanic</td>\n",
       "      <td>Ships</td>\n",
       "      <td>1:700</td>\n",
       "      <td>Carousel DieCast Legends</td>\n",
       "      <td>Completed model measures 19 1/2 inches long, 9...</td>\n",
       "      <td>1956</td>\n",
       "      <td>51.09</td>\n",
       "      <td>100.17</td>\n",
       "    </tr>\n",
       "    <tr>\n",
       "      <th>106</th>\n",
       "      <td>S700_3962</td>\n",
       "      <td>The Queen Mary</td>\n",
       "      <td>Ships</td>\n",
       "      <td>1:700</td>\n",
       "      <td>Welly Diecast Productions</td>\n",
       "      <td>Exact replica. Wood and Metal. Many extras inc...</td>\n",
       "      <td>5088</td>\n",
       "      <td>53.63</td>\n",
       "      <td>99.31</td>\n",
       "    </tr>\n",
       "    <tr>\n",
       "      <th>107</th>\n",
       "      <td>S700_4002</td>\n",
       "      <td>American Airlines: MD-11S</td>\n",
       "      <td>Planes</td>\n",
       "      <td>1:700</td>\n",
       "      <td>Second Gear Diecast</td>\n",
       "      <td>Polished finish. Exact replia with official lo...</td>\n",
       "      <td>8820</td>\n",
       "      <td>36.27</td>\n",
       "      <td>74.03</td>\n",
       "    </tr>\n",
       "    <tr>\n",
       "      <th>108</th>\n",
       "      <td>S72_1253</td>\n",
       "      <td>Boeing X-32A JSF</td>\n",
       "      <td>Planes</td>\n",
       "      <td>1:72</td>\n",
       "      <td>Motor City Art Classics</td>\n",
       "      <td>10\" Wingspan with retractable landing gears.Co...</td>\n",
       "      <td>4857</td>\n",
       "      <td>32.77</td>\n",
       "      <td>49.66</td>\n",
       "    </tr>\n",
       "    <tr>\n",
       "      <th>109</th>\n",
       "      <td>S72_3212</td>\n",
       "      <td>Pont Yacht</td>\n",
       "      <td>Ships</td>\n",
       "      <td>1:72</td>\n",
       "      <td>Unimax Art Galleries</td>\n",
       "      <td>Measures 38 inches Long x 33 3/4 inches High. ...</td>\n",
       "      <td>414</td>\n",
       "      <td>33.30</td>\n",
       "      <td>54.60</td>\n",
       "    </tr>\n",
       "  </tbody>\n",
       "</table>\n",
       "<p>110 rows × 9 columns</p>\n",
       "</div>"
      ],
      "text/plain": [
       "    productCode                            productName   productLine  \\\n",
       "0      S10_1678  1969 Harley Davidson Ultimate Chopper   Motorcycles   \n",
       "1      S10_1949               1952 Alpine Renault 1300  Classic Cars   \n",
       "2      S10_2016                  1996 Moto Guzzi 1100i   Motorcycles   \n",
       "3      S10_4698   2003 Harley-Davidson Eagle Drag Bike   Motorcycles   \n",
       "4      S10_4757                    1972 Alfa Romeo GTA  Classic Cars   \n",
       "..          ...                                    ...           ...   \n",
       "105   S700_3505                            The Titanic         Ships   \n",
       "106   S700_3962                         The Queen Mary         Ships   \n",
       "107   S700_4002              American Airlines: MD-11S        Planes   \n",
       "108    S72_1253                       Boeing X-32A JSF        Planes   \n",
       "109    S72_3212                             Pont Yacht         Ships   \n",
       "\n",
       "    productScale              productVendor  \\\n",
       "0           1:10            Min Lin Diecast   \n",
       "1           1:10    Classic Metal Creations   \n",
       "2           1:10   Highway 66 Mini Classics   \n",
       "3           1:10          Red Start Diecast   \n",
       "4           1:10    Motor City Art Classics   \n",
       "..           ...                        ...   \n",
       "105        1:700   Carousel DieCast Legends   \n",
       "106        1:700  Welly Diecast Productions   \n",
       "107        1:700        Second Gear Diecast   \n",
       "108         1:72    Motor City Art Classics   \n",
       "109         1:72       Unimax Art Galleries   \n",
       "\n",
       "                                    productDescription  quantityInStock  \\\n",
       "0    This replica features working kickstand, front...             7933   \n",
       "1    Turnable front wheels; steering function; deta...             7305   \n",
       "2    Official Moto Guzzi logos and insignias, saddl...             6625   \n",
       "3    Model features, official Harley Davidson logos...             5582   \n",
       "4    Features include: Turnable front wheels; steer...             3252   \n",
       "..                                                 ...              ...   \n",
       "105  Completed model measures 19 1/2 inches long, 9...             1956   \n",
       "106  Exact replica. Wood and Metal. Many extras inc...             5088   \n",
       "107  Polished finish. Exact replia with official lo...             8820   \n",
       "108  10\" Wingspan with retractable landing gears.Co...             4857   \n",
       "109  Measures 38 inches Long x 33 3/4 inches High. ...              414   \n",
       "\n",
       "    buyPrice    MSRP  \n",
       "0      48.81   95.70  \n",
       "1      98.58  214.30  \n",
       "2      68.99  118.94  \n",
       "3      91.02  193.66  \n",
       "4      85.68  136.00  \n",
       "..       ...     ...  \n",
       "105    51.09  100.17  \n",
       "106    53.63   99.31  \n",
       "107    36.27   74.03  \n",
       "108    32.77   49.66  \n",
       "109    33.30   54.60  \n",
       "\n",
       "[110 rows x 9 columns]"
      ]
     },
     "execution_count": 9,
     "metadata": {},
     "output_type": "execute_result"
    }
   ],
   "source": [
    "# First, let's take the attributes from sql table to columns in dataframe.\n",
    "cursor.execute(\"show COLUMNS from products;\")\n",
    "result = cursor.fetchall()\n",
    "\n",
    "columns = []\n",
    "for row in result:\n",
    "  columns.append(row[0])\n",
    "columns\n",
    "\n",
    "cursor.execute(\"SELECT * FROM products\")\n",
    "\n",
    "result = cursor.fetchall()\n",
    "\n",
    "costumerslist = []\n",
    "for row in result:\n",
    "  costumerslist.append(row)\n",
    "\n",
    "Products_df = pd.DataFrame(costumerslist,columns=columns)\n",
    "Products_df"
   ]
  },
  {
   "cell_type": "markdown",
   "metadata": {},
   "source": [
    "Just 0,8s to fetch all data. In this case is ok to take all the table, convert it to Pandas df, and then plot it.  \n",
    "With bigger databases maybe this strategy should change and just make the \"selects\" needed in order to plot the graphic."
   ]
  },
  {
   "cell_type": "code",
   "execution_count": 10,
   "metadata": {},
   "outputs": [
    {
     "name": "stdout",
     "output_type": "stream",
     "text": [
      "<class 'pandas.core.frame.DataFrame'>\n",
      "RangeIndex: 110 entries, 0 to 109\n",
      "Data columns (total 9 columns):\n",
      " #   Column              Non-Null Count  Dtype \n",
      "---  ------              --------------  ----- \n",
      " 0   productCode         110 non-null    object\n",
      " 1   productName         110 non-null    object\n",
      " 2   productLine         110 non-null    object\n",
      " 3   productScale        110 non-null    object\n",
      " 4   productVendor       110 non-null    object\n",
      " 5   productDescription  110 non-null    object\n",
      " 6   quantityInStock     110 non-null    int64 \n",
      " 7   buyPrice            110 non-null    object\n",
      " 8   MSRP                110 non-null    object\n",
      "dtypes: int64(1), object(8)\n",
      "memory usage: 7.9+ KB\n"
     ]
    }
   ],
   "source": [
    "Products_df.info()\n"
   ]
  },
  {
   "cell_type": "markdown",
   "metadata": {},
   "source": [
    "Let's plot the stock we have in each productLine."
   ]
  },
  {
   "cell_type": "code",
   "execution_count": 11,
   "metadata": {},
   "outputs": [
    {
     "data": {
      "image/png": "[encoded data removed]",
      "text/plain": [
       "<Figure size 1440x864 with 1 Axes>"
      ]
     },
     "metadata": {},
     "output_type": "display_data"
    }
   ],
   "source": [
    "Stock_df = pd.DataFrame(Products_df.groupby(['productLine']).sum())\n",
    "Stock_df = Stock_df.reset_index()\n",
    "Stock_df\n",
    "# plot a bar chart\n",
    "Pers.barplot2D('productLine','quantityInStock',Stock_df);\n"
   ]
  },
  {
   "cell_type": "markdown",
   "metadata": {},
   "source": [
    "Let's plot our Products Scale (cars, ships, etc.) vs. buyPrice."
   ]
  },
  {
   "cell_type": "code",
   "execution_count": 12,
   "metadata": {},
   "outputs": [
    {
     "data": {
      "image/png": "[encoded data removed]",
      "text/plain": [
       "<Figure size 1440x864 with 1 Axes>"
      ]
     },
     "metadata": {},
     "output_type": "display_data"
    }
   ],
   "source": [
    "Products_df.buyPrice = pd.to_numeric(Products_df.buyPrice)\n",
    "\n",
    "Pers.boxplot2D('productScale','buyPrice',Products_df)"
   ]
  }
 ],
 "metadata": {
  "interpreter": {
   "hash": "494e690407c5c7c9b2fbc0a1227ada2e3d821eefed538763ba3356ad470e06f1"
  },
  "kernelspec": {
   "display_name": "Python 3.9.12 ('ITAcademy')",
   "language": "python",
   "name": "python3"
  },
  "language_info": {
   "codemirror_mode": {
    "name": "ipython",
    "version": 3
   },
   "file_extension": ".py",
   "mimetype": "text/x-python",
   "name": "python",
   "nbconvert_exporter": "python",
   "pygments_lexer": "ipython3",
   "version": "3.9.12"
  },
  "orig_nbformat": 4
 },
 "nbformat": 4,
 "nbformat_minor": 2
}
